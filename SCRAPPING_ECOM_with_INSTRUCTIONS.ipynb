{
 "cells": [
  {
   "cell_type": "markdown",
   "id": "a767053a",
   "metadata": {},
   "source": [
    "# Imports"
   ]
  },
  {
   "cell_type": "code",
   "execution_count": 1,
   "id": "3a74c64e",
   "metadata": {
    "ExecuteTime": {
     "end_time": "2022-06-21T12:50:30.765979Z",
     "start_time": "2022-06-21T12:50:28.976223Z"
    }
   },
   "outputs": [],
   "source": [
    "from selenium import webdriver\n",
    "from selenium.webdriver.chrome.service import Service\n",
    "from webdriver_manager.chrome import ChromeDriverManager\n",
    "from selenium.webdriver.common.keys import Keys\n",
    "from selenium.webdriver.support import expected_conditions as EC\n",
    "from selenium.webdriver.common.by import By\n",
    "from selenium.webdriver.support.wait import WebDriverWait\n",
    "from selenium.webdriver.common.action_chains import ActionChains\n",
    "import time\n",
    "import os\n",
    "import wget\n",
    "from bs4 import BeautifulSoup, SoupStrainer\n",
    "import pandas as pd\n",
    "import re\n",
    "from concurrent.futures import ThreadPoolExecutor\n",
    "import requests"
   ]
  },
  {
   "cell_type": "markdown",
   "id": "47fd5ca3",
   "metadata": {},
   "source": [
    "# Webdriver and Setting up the Link"
   ]
  },
  {
   "cell_type": "code",
   "execution_count": 2,
   "id": "886535ee",
   "metadata": {
    "ExecuteTime": {
     "end_time": "2022-06-19T13:34:18.338031Z",
     "start_time": "2022-06-19T13:33:32.275651Z"
    }
   },
   "outputs": [],
   "source": [
    "path_of_chromedriver = \"D:/Softwares/chromedriver_win32/chromedriver.exe\"\n",
    "\n",
    "service = Service(path_of_chromedriver)\n",
    "op = webdriver.ChromeOptions()\n",
    "driver = webdriver.Chrome(service=service , options=op)\n",
    "\n",
    "link = \"https://b2b.luminafashion.com/it/20-collezione?page=1\"\n",
    "driver.get(link)\n",
    "time.sleep(10)\n",
    "\n",
    "\n",
    "\"\"\"\n",
    "Check if the page loads.\n",
    "\"\"\""
   ]
  },
  {
   "cell_type": "code",
   "execution_count": 3,
   "id": "e5fd70fb",
   "metadata": {
    "ExecuteTime": {
     "end_time": "2022-06-19T13:40:27.965411Z",
     "start_time": "2022-06-19T13:38:45.101116Z"
    }
   },
   "outputs": [],
   "source": [
    "account = driver.find_element(by = By.XPATH , value = \"/html/body/main/header/div[1]/div[1]/div[1]/div[3]/ul/li[1]/div\")\n",
    "account.click()\n",
    "time.sleep(5)\n",
    "\n",
    "login = driver.find_element(by = By.XPATH , value = \"/html/body/main/div[1]/div/div[4]/div/a[1]\")\n",
    "login.click()\n",
    "time.sleep(5)\n",
    "\n",
    "username = WebDriverWait(driver, 10).until(EC.element_to_be_clickable((By.CSS_SELECTOR, \"input[name='email']\")))\n",
    "username.clear()\n",
    "username.send_keys(\"conidig@gmail.com\")\n",
    "username.send_keys(Keys.RETURN)\n",
    "time.sleep(3)\n",
    "\n",
    "password = WebDriverWait(driver, 10).until(EC.element_to_be_clickable((By.CSS_SELECTOR, \"input[name='password']\")))\n",
    "password.clear()\n",
    "password.send_keys(\"E06UCUD\")\n",
    "password.send_keys(Keys.RETURN)\n",
    "time.sleep(10)\n",
    "\n",
    "\n",
    "\n",
    "\"\"\"\n",
    "Check, if the page has loaded successfully\n",
    "\"\"\""
   ]
  },
  {
   "cell_type": "code",
   "execution_count": 4,
   "id": "af5af720",
   "metadata": {
    "ExecuteTime": {
     "end_time": "2022-06-19T13:41:25.234015Z",
     "start_time": "2022-06-19T13:40:28.001385Z"
    }
   },
   "outputs": [],
   "source": [
    "original_link = \"https://b2b.luminafashion.com/it/20-collezione?page=1\"\n",
    "driver.get(original_link)\n",
    "time.sleep(10)\n",
    "\n",
    "\n",
    "\"\"\"\n",
    "Check again\n",
    "\"\"\""
   ]
  },
  {
   "cell_type": "markdown",
   "id": "3519afbe",
   "metadata": {},
   "source": [
    "## This part will scroll down all the way down."
   ]
  },
  {
   "cell_type": "code",
   "execution_count": 5,
   "id": "1f4d1a6f",
   "metadata": {
    "ExecuteTime": {
     "end_time": "2022-06-19T13:42:34.077481Z",
     "start_time": "2022-06-19T13:42:34.063491Z"
    }
   },
   "outputs": [],
   "source": [
    "num=0"
   ]
  },
  {
   "cell_type": "code",
   "execution_count": 10,
   "id": "b8fe8b6a",
   "metadata": {
    "ExecuteTime": {
     "end_time": "2022-06-19T13:58:02.696920Z",
     "start_time": "2022-06-19T13:57:57.634046Z"
    }
   },
   "outputs": [],
   "source": [
    "scroll = True\n",
    "\n",
    "while scroll==True:\n",
    "    try:\n",
    "        time.sleep(5)\n",
    "        driver.execute_script(\"window.scrollTo(0, document.body.scrollHeight);\")\n",
    "        time.sleep(10)\n",
    "        loadmore = driver.find_element(by = By.ID,value=\"loadmoder\")\n",
    "        loadmore.click()\n",
    "        time.sleep(5)\n",
    "        num+=1\n",
    "        print(num)\n",
    "        \n",
    "    except:\n",
    "        scroll=False\n",
    "        \n",
    "        \n",
    "\"\"\"\n",
    "Check. Has scrolling completely finished. If NOT, run this cell again.\n",
    "\"\"\""
   ]
  },
  {
   "cell_type": "markdown",
   "id": "4010ae6b",
   "metadata": {},
   "source": [
    "## Scrolling has been done, now let's store the link of each product."
   ]
  },
  {
   "cell_type": "code",
   "execution_count": 11,
   "id": "c83ee312",
   "metadata": {
    "ExecuteTime": {
     "end_time": "2022-06-19T13:58:04.229206Z",
     "start_time": "2022-06-19T13:58:04.210217Z"
    }
   },
   "outputs": [],
   "source": [
    "LINKS = []"
   ]
  },
  {
   "cell_type": "code",
   "execution_count": 12,
   "id": "c6bfc63f",
   "metadata": {
    "ExecuteTime": {
     "end_time": "2022-06-19T13:58:09.114587Z",
     "start_time": "2022-06-19T13:58:05.078071Z"
    }
   },
   "outputs": [
    {
     "name": "stdout",
     "output_type": "stream",
     "text": [
      "Number of Products: 394\n",
      "Number of Links 394\n"
     ]
    }
   ],
   "source": [
    "html = driver.page_source\n",
    "strainer = SoupStrainer('div', attrs={\"class\":\"product-image image-load\"})\n",
    "soup = BeautifulSoup(html , 'html.parser' , parse_only=strainer)\n",
    "divs = soup.find_all(\"div\" , class_=\"product-image image-load\")\n",
    "print(\"Number of Products:\", len(divs))\n",
    "\n",
    "for i in divs:\n",
    "    product_url = i.a['href']\n",
    "    LINKS.append(product_url)\n",
    "    \n",
    "print(\"Number of Links\", len(LINKS))"
   ]
  },
  {
   "cell_type": "markdown",
   "id": "2e12faa8",
   "metadata": {},
   "source": [
    "# Scrapping Begins"
   ]
  },
  {
   "cell_type": "code",
   "execution_count": 187,
   "id": "ea3780c7",
   "metadata": {
    "ExecuteTime": {
     "end_time": "2022-06-19T19:06:33.346043Z",
     "start_time": "2022-06-19T19:06:33.312067Z"
    }
   },
   "outputs": [],
   "source": [
    "TITLE = []\n",
    "PRICE = []\n",
    "SHORT_DESCRIPTION = []\n",
    "DESCRIPTION2 = []\n",
    "SIZES = []\n",
    "COLOR = []\n",
    "IMAGE1, IMAGE2, IMAGE3, IMAGE4 = [],[],[],[]\n",
    "IMAGES = [IMAGE1, IMAGE2, IMAGE3, IMAGE4]\n",
    "\n",
    "\n",
    "\n",
    "\n",
    "PRODUCT_NAME = []\n",
    "SKU = []\n",
    "COLOR_VARIANT = []\n",
    "SIZE_VARIANT = []\n",
    "AVAILABILITY = []"
   ]
  },
  {
   "cell_type": "code",
   "execution_count": 263,
   "id": "16905e95",
   "metadata": {
    "ExecuteTime": {
     "end_time": "2022-06-20T16:42:48.003027Z",
     "start_time": "2022-06-20T16:42:47.927076Z"
    }
   },
   "outputs": [],
   "source": [
    "def looprun(p_url):\n",
    "    try:\n",
    "        driver.get(p_url)\n",
    "    except:\n",
    "        driver.get(p_url)\n",
    "    time.sleep(7)\n",
    "\n",
    "    # click on long description\n",
    "    desc2 = driver.find_element(by = By.CSS_SELECTOR,value=\"input[id='chck1']\")\n",
    "    driver.execute_script(\"arguments[0].click();\", desc2)\n",
    "    time.sleep(3)\n",
    "\n",
    "    # getting page source\n",
    "    html2 = driver.page_source\n",
    "    soup2 = BeautifulSoup(html2 , 'html.parser')\n",
    "\n",
    "    def text_with_newlines(elem):\n",
    "        text = ''\n",
    "        for e in elem.descendants:\n",
    "            if isinstance(e, str):\n",
    "                text += e\n",
    "            elif e.name == 'br' or e.name == 'p':\n",
    "                text += '\\n'\n",
    "        return text\n",
    "\n",
    "    # title & product name\n",
    "    title = soup2.find(\"h1\" , class_=\"h1 product-title\").text \n",
    "    # SKU\n",
    "    try:\n",
    "        sku = title.split(\". \")[1] # sku\n",
    "    except:\n",
    "        sku = title.split(\".\")[1]\n",
    "    # PRICE\n",
    "    price = soup2.find(\"span\", itemprop=\"price\").text.replace(\",\",\".\").replace(\"\\xa0€\",\"\")\n",
    "\n",
    "    # Short Description\n",
    "    short_des = soup2.find('div',itemprop=\"description\")\n",
    "    short_description = text_with_newlines(short_des).strip()\n",
    "    \n",
    "    # Long Description\n",
    "    long_des = soup2.find('div', class_=\"tab-content product-description\")\n",
    "    description2 =  text_with_newlines(long_des).strip()\n",
    "\n",
    "\n",
    "\n",
    "    # Variants: SIZE and COLORS\n",
    "    variants = soup2.find_all('div',class_=\"clearfix product-variants-item\")\n",
    "\n",
    "    aa = variants[0]\n",
    "    bb = variants[1]\n",
    "    ul_size = aa.find('ul', id=\"group_1\")\n",
    "    ul_color = bb.find('ul', id=\"group_2\")\n",
    "\n",
    "    size_list = ul_size.find_all('li')\n",
    "    color_list = ul_color.find_all('li')\n",
    "    size=\"\"\n",
    "    color = \"\"\n",
    "    for i in size_list:\n",
    "        size += i.text.strip() + \",\"\n",
    "    size=size[:-1]\n",
    "    for i in color_list:\n",
    "        color += i.text.strip()+\"\\n\"\n",
    "    color=color[:-1]\n",
    "\n",
    "\n",
    "\n",
    "    colors_list = color.split(\"\\n\")\n",
    "    size_list = size.split(\",\")\n",
    "\n",
    "    ###################################################################################\n",
    "    def size_n_color():\n",
    "        size_clicks = driver.find_element(by=By.ID, value='group_1')\n",
    "        color_clicks =driver.find_element(by=By.ID, value='group_2')\n",
    "        global sc\n",
    "        global cc\n",
    "\n",
    "        sc = size_clicks.find_elements(by=By.CSS_SELECTOR, value=\"input[name='group[1]']\")\n",
    "        cc = color_clicks.find_elements(by=By.CSS_SELECTOR, value=\"input[name='group[2]']\")\n",
    "    ###################################################################################\n",
    "\n",
    "    size_n_color()\n",
    "\n",
    "\n",
    "\n",
    "\n",
    "\n",
    "\n",
    "\n",
    "\n",
    "\n",
    "\n",
    "\n",
    "    # Clicking on each color, and getting data.\n",
    "    for COL in range(len(cc)):\n",
    "        \n",
    "\n",
    "        \n",
    "\n",
    "        driver.execute_script(\"arguments[0].click();\", cc[COL])\n",
    "        time.sleep(5)\n",
    "        \n",
    "        current_URL = driver.current_url\n",
    "        driver.get(current_URL)\n",
    "        time.sleep(3)\n",
    "        size_n_color()\n",
    "\n",
    "        link_list = []\n",
    "        ls = driver.find_elements(by=By.CLASS_NAME, value= \"thumb-container\")\n",
    "\n",
    "        length = len(ls)\n",
    "        if length>5:\n",
    "            length=5\n",
    "\n",
    "        for i in range(1, length):\n",
    "            lnk = ls[i].find_element(by= By.TAG_NAME, value= \"img\").get_attribute('src')\n",
    "            link_list.append(lnk)    \n",
    "\n",
    "\n",
    "\n",
    "\n",
    "\n",
    "\n",
    "\n",
    "\n",
    "        \n",
    "#####################################################################################################\n",
    "        # clicking on Sizes and getting data about its availability.\n",
    "        for j in range(len(sc)):\n",
    "            driver.execute_script(\"arguments[0].click();\", sc[j])\n",
    "            time.sleep(8)\n",
    "#             if len(sc)!=1:\n",
    "#                 CURRENT_URL = driver.current_url\n",
    "#                 driver.get(CURRENT_URL)\n",
    "#                 time.sleep(5)\n",
    "            size_n_color()\n",
    "            \n",
    "            # availability\n",
    "            d = driver.find_element(by=By.CLASS_NAME, value='product-add-to-cart')\n",
    "            availability_text =  d.text\n",
    "            if \"ACQUISTA\" in availability_text:\n",
    "                a_text = 'yes'\n",
    "            else:\n",
    "                a_text = 'no'\n",
    "            # appending data-1    \n",
    "            SIZE_VARIANT.append(size_list[j])\n",
    "            AVAILABILITY.append(a_text)\n",
    "            COLOR_VARIANT.append(colors_list[COL])\n",
    "            SKU.append(sku)\n",
    "            PRODUCT_NAME.append(title)\n",
    "\n",
    "#####################################################################################################\n",
    "        # appending data-2\n",
    "        TITLE.append(title)\n",
    "        PRICE.append(price)\n",
    "        SHORT_DESCRIPTION.append(short_description)\n",
    "        DESCRIPTION2.append(description2)\n",
    "        SIZES.append(size)\n",
    "        COLOR.append(colors_list[COL])\n",
    "        if len(link_list)<4:\n",
    "            for j in range(len(link_list),4):\n",
    "                link_list.append(\"\")\n",
    "\n",
    "        for i in range(len(link_list)):\n",
    "            IMAGES[i].append(link_list[i])\n"
   ]
  },
  {
   "cell_type": "markdown",
   "id": "5105cf5b",
   "metadata": {},
   "source": [
    "## Let's run the scraper function, defined above"
   ]
  },
  {
   "cell_type": "code",
   "execution_count": null,
   "id": "543a75a1",
   "metadata": {},
   "outputs": [],
   "source": [
    "print(\"Total Products:\",len(LINKS))"
   ]
  },
  {
   "cell_type": "code",
   "execution_count": 348,
   "id": "4d211825",
   "metadata": {
    "ExecuteTime": {
     "end_time": "2022-06-21T10:57:55.838819Z",
     "start_time": "2022-06-21T09:19:53.615199Z"
    }
   },
   "outputs": [
    {
     "name": "stdout",
     "output_type": "stream",
     "text": [
      "383\n",
      "384\n",
      "385\n",
      "386\n",
      "387\n",
      "388\n",
      "389\n",
      "390\n",
      "391\n",
      "392\n",
      "393\n"
     ]
    }
   ],
   "source": [
    "start = 0\n",
    "end = len(LINKS)\n",
    "\n",
    "for v in range(start , end):\n",
    "    \n",
    "    try:\n",
    "    \n",
    "        looprun(LINKS[v])\n",
    "    except NoSuchElementException:\n",
    "        pass\n",
    "        \n",
    "    print(v)\n",
    "    \n",
    "    \n",
    "    \n",
    "    \n"
   ]
  },
  {
   "cell_type": "markdown",
   "id": "8d17bf54",
   "metadata": {
    "ExecuteTime": {
     "end_time": "2022-06-21T14:30:07.554784Z",
     "start_time": "2022-06-21T14:30:07.542792Z"
    }
   },
   "source": [
    "# Creating COLUMNS for excel file\n",
    "\n",
    "### Run this cell once the above cell completes."
   ]
  },
  {
   "cell_type": "code",
   "execution_count": 349,
   "id": "064dc32c",
   "metadata": {
    "ExecuteTime": {
     "end_time": "2022-06-21T10:58:04.761388Z",
     "start_time": "2022-06-21T10:58:04.737403Z"
    }
   },
   "outputs": [],
   "source": [
    "\n",
    "data1 = {\n",
    "    \"Product Name\": PRODUCT_NAME,\n",
    "    \"SKU\": SKU,\n",
    "    \"Color Variant\": COLOR_VARIANT,\n",
    "    \"Size Variant\": SIZE_VARIANT,\n",
    "    \"Availability\": AVAILABILITY\n",
    "}\n",
    "\n",
    "\n",
    "\n",
    "\n",
    "\n",
    "data2 = {\n",
    "    \"Title\":TITLE,\n",
    "    \"Price\": PRICE,\n",
    "    \"Short Description\": SHORT_DESCRIPTION,\n",
    "    \"Description 2\": DESCRIPTION2,\n",
    "    \"Sizes\": SIZES,\n",
    "    \"Colors\": COLOR,\n",
    "    \"Image 1\": IMAGES[0],\n",
    "    \"Image 2\": IMAGES[1],\n",
    "    \"Image 3\": IMAGES[2],\n",
    "    \"Image 4\": IMAGES[3]\n",
    "}\n"
   ]
  },
  {
   "cell_type": "code",
   "execution_count": 350,
   "id": "b35acadc",
   "metadata": {
    "ExecuteTime": {
     "end_time": "2022-06-21T10:58:07.606812Z",
     "start_time": "2022-06-21T10:58:07.579826Z"
    }
   },
   "outputs": [],
   "source": [
    "df1 = pd.DataFrame(data1)\n",
    "df2 = pd.DataFrame(data2)\n"
   ]
  },
  {
   "cell_type": "markdown",
   "id": "23cee865",
   "metadata": {},
   "source": [
    "## Loading the data to excel file"
   ]
  },
  {
   "cell_type": "code",
   "execution_count": 352,
   "id": "983b29fc",
   "metadata": {
    "ExecuteTime": {
     "end_time": "2022-06-21T11:02:21.043631Z",
     "start_time": "2022-06-21T11:02:17.838904Z"
    }
   },
   "outputs": [],
   "source": [
    "with pd.ExcelWriter('Data_2.xlsx', engine='xlsxwriter') as writer:\n",
    "    df2.to_excel(writer, sheet_name='Sheet1', index=False)\n",
    "    workbook  = writer.book\n",
    "    worksheet = writer.sheets['Sheet1']\n",
    "    cell_format = workbook.add_format({'text_wrap': True})\n",
    "    worksheet.set_column('A:Z', cell_format=cell_format)\n",
    "    \n",
    "filename = \"Data_1.xlsx\"\n",
    "df2.to_excel(filename, index=False)"
   ]
  }
 ],
 "metadata": {
  "kernelspec": {
   "display_name": "Python 3 (ipykernel)",
   "language": "python",
   "name": "python3"
  },
  "language_info": {
   "codemirror_mode": {
    "name": "ipython",
    "version": 3
   },
   "file_extension": ".py",
   "mimetype": "text/x-python",
   "name": "python",
   "nbconvert_exporter": "python",
   "pygments_lexer": "ipython3",
   "version": "3.9.7"
  },
  "latex_envs": {
   "LaTeX_envs_menu_present": true,
   "autoclose": true,
   "autocomplete": true,
   "bibliofile": "biblio.bib",
   "cite_by": "apalike",
   "current_citInitial": 1,
   "eqLabelWithNumbers": true,
   "eqNumInitial": 1,
   "hotkeys": {
    "equation": "Ctrl-E",
    "itemize": "Ctrl-I"
   },
   "labels_anchors": false,
   "latex_user_defs": false,
   "report_style_numbering": true,
   "user_envs_cfg": true
  },
  "varInspector": {
   "cols": {
    "lenName": 16,
    "lenType": 16,
    "lenVar": 40
   },
   "kernels_config": {
    "python": {
     "delete_cmd_postfix": "",
     "delete_cmd_prefix": "del ",
     "library": "var_list.py",
     "varRefreshCmd": "print(var_dic_list())"
    },
    "r": {
     "delete_cmd_postfix": ") ",
     "delete_cmd_prefix": "rm(",
     "library": "var_list.r",
     "varRefreshCmd": "cat(var_dic_list()) "
    }
   },
   "types_to_exclude": [
    "module",
    "function",
    "builtin_function_or_method",
    "instance",
    "_Feature"
   ],
   "window_display": false
  }
 },
 "nbformat": 4,
 "nbformat_minor": 5
}
